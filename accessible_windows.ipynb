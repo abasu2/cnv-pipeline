{
 "cells": [
  {
   "cell_type": "code",
   "execution_count": 1,
   "metadata": {},
   "outputs": [],
   "source": [
    "import numpy as np\n",
    "import pysam\n",
    "import pysamstats"
   ]
  },
  {
   "cell_type": "code",
   "execution_count": 2,
   "metadata": {},
   "outputs": [],
   "source": [
    "fasta_filename = '/share/lanzarolab/users/abasu/reference/Anopheles-gambiae-PEST_CHROMOSOMES_AgamP4.fa'\n",
    "window_size = 300\n",
    "fasta = pysam.FastaFile(fasta_filename)"
   ]
  },
  {
   "cell_type": "code",
   "execution_count": 9,
   "metadata": {},
   "outputs": [
    {
     "name": "stdout",
     "output_type": "stream",
     "text": [
      "47.63710632655946% of windows in 2R were marked as accessible\n",
      "37.72090818484576% of windows in 2L were marked as accessible\n",
      "45.032593494834664% of windows in 3R were marked as accessible\n",
      "44.21893207700941% of windows in 3L were marked as accessible\n",
      "39.80765210119172% of windows in X were marked as accessible\n"
     ]
    }
   ],
   "source": [
    "for chromosome in (\"2R\", \"2L\", \"3R\", \"3L\", \"X\"):\n",
    "    num_windows = fasta.get_reference_length(chromosome) // window_size + 1\n",
    "    accessibility_pass = np.zeros(fasta.get_reference_length(chromosome)+1, '?') # initialize bool array as all Fails. uses 1-based indexing.\n",
    "    with open(f\"accessibility_masks/accessibility.{chromosome}.mask\", 'r') as mask:\n",
    "        for line in mask:\n",
    "            position = int(line.lstrip(chromosome + \" \"))\n",
    "            accessibility_pass[position] = True # set array element to true if the base pair PASSes\n",
    "    # set element to False if <90% of bases in the window PASS\n",
    "    windowed_accessibility = [not np.mean(accessibility_pass[n: n+window_size]) < 0.9 for n in np.arange(1, num_windows*window_size, window_size)]\n",
    "    with open(f\"accessibility.{chromosome}_{window_size}.mask\", 'wb') as window_mask:\n",
    "        np.save(window_mask, np.array(windowed_accessibility))\n",
    "    print(f\"{100*np.count_nonzero(windowed_accessibility)/len(windowed_accessibility)}% of windows in {chromosome} were marked as accessible\")"
   ]
  },
  {
   "cell_type": "code",
   "execution_count": null,
   "metadata": {},
   "outputs": [],
   "source": []
  }
 ],
 "metadata": {
  "kernelspec": {
   "display_name": "Python 3",
   "language": "python",
   "name": "python3"
  },
  "language_info": {
   "codemirror_mode": {
    "name": "ipython",
    "version": 3
   },
   "file_extension": ".py",
   "mimetype": "text/x-python",
   "name": "python",
   "nbconvert_exporter": "python",
   "pygments_lexer": "ipython3",
   "version": "3.7.8"
  }
 },
 "nbformat": 4,
 "nbformat_minor": 4
}
